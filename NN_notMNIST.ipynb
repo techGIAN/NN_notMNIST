{
 "cells": [
  {
   "cell_type": "markdown",
   "metadata": {},
   "source": [
    "# Neural Networks\n",
    "Introduction to Machine Learning and Pattern Recognition <br>\n",
    "Author: <b>GIAN CARLO ALIX</b> <br>\n",
    "<i><b>Disclaimer: </b>Note that this Machine Learning project was used as an Assignment Submission and<br>\n",
    "&nbsp; &nbsp; &nbsp; &nbsp; &nbsp; &nbsp; &nbsp; &nbsp; &nbsp; &nbsp; thereby is <b>copyrighted</b>. No part of this Notebook may be used for<br>\n",
    "&nbsp; &nbsp; &nbsp; &nbsp; &nbsp; &nbsp; &nbsp; &nbsp; &nbsp; &nbsp; replication, publication, and submission. This is merely for reference only<br>\n",
    "&nbsp; &nbsp; &nbsp; &nbsp; &nbsp; &nbsp; &nbsp; &nbsp; &nbsp; &nbsp; and to showcase a demonstrative example of Neural Networks in Machine Learning.<br>\n",
    "&nbsp; &nbsp; &nbsp; &nbsp; &nbsp; &nbsp; &nbsp; &nbsp; &nbsp; &nbsp; Use as reference only; include citations; and use of material is at your own risk!</i>\n",
    "\n",
    "### The notMNIST Dataset\n",
    "<img src=\"img/notmnist.png\">\n",
    "The <a href=\"http://yaroslavvb.blogspot.ca/2011/09/notmnist-dataset.html\" target=\"_blank\">notMNIST Dataset</a> is a permuted version of the built-in MNIST dataset, which consists of 28 x 28 images of 10 letters (A through J), in different fonts. The dataset has 18,720 observations - and for this project, we divide it into the training set, the validation set and the testing set. The dataset is in a file called \"notMNIST.npz\".\n",
    "\n",
    "### 1.1 Feedforward Neural Networks\n",
    "Using the given notMNIST dataset, we will be building the feedforward neural network architecture and training it over several epochs using batch training and a gradient descent algorithm (Adam).\n",
    "\n",
    "Let us begin by importing the necessary packages for our project."
   ]
  },
  {
   "cell_type": "code",
   "execution_count": 1,
   "metadata": {
    "collapsed": true
   },
   "outputs": [
    {
     "name": "stderr",
     "output_type": "stream",
     "text": [
      "/anaconda3/lib/python3.6/site-packages/tensorflow/python/framework/dtypes.py:526: FutureWarning: Passing (type, 1) or '1type' as a synonym of type is deprecated; in a future version of numpy, it will be understood as (type, (1,)) / '(1,)type'.\n",
      "  _np_qint8 = np.dtype([(\"qint8\", np.int8, 1)])\n",
      "/anaconda3/lib/python3.6/site-packages/tensorflow/python/framework/dtypes.py:527: FutureWarning: Passing (type, 1) or '1type' as a synonym of type is deprecated; in a future version of numpy, it will be understood as (type, (1,)) / '(1,)type'.\n",
      "  _np_quint8 = np.dtype([(\"quint8\", np.uint8, 1)])\n",
      "/anaconda3/lib/python3.6/site-packages/tensorflow/python/framework/dtypes.py:528: FutureWarning: Passing (type, 1) or '1type' as a synonym of type is deprecated; in a future version of numpy, it will be understood as (type, (1,)) / '(1,)type'.\n",
      "  _np_qint16 = np.dtype([(\"qint16\", np.int16, 1)])\n",
      "/anaconda3/lib/python3.6/site-packages/tensorflow/python/framework/dtypes.py:529: FutureWarning: Passing (type, 1) or '1type' as a synonym of type is deprecated; in a future version of numpy, it will be understood as (type, (1,)) / '(1,)type'.\n",
      "  _np_quint16 = np.dtype([(\"quint16\", np.uint16, 1)])\n",
      "/anaconda3/lib/python3.6/site-packages/tensorflow/python/framework/dtypes.py:530: FutureWarning: Passing (type, 1) or '1type' as a synonym of type is deprecated; in a future version of numpy, it will be understood as (type, (1,)) / '(1,)type'.\n",
      "  _np_qint32 = np.dtype([(\"qint32\", np.int32, 1)])\n",
      "/anaconda3/lib/python3.6/site-packages/tensorflow/python/framework/dtypes.py:535: FutureWarning: Passing (type, 1) or '1type' as a synonym of type is deprecated; in a future version of numpy, it will be understood as (type, (1,)) / '(1,)type'.\n",
      "  np_resource = np.dtype([(\"resource\", np.ubyte, 1)])\n",
      "/anaconda3/lib/python3.6/site-packages/h5py/__init__.py:36: FutureWarning: Conversion of the second argument of issubdtype from `float` to `np.floating` is deprecated. In future, it will be treated as `np.float64 == np.dtype(float).type`.\n",
      "  from ._conv import register_converters as _register_converters\n"
     ]
    }
   ],
   "source": [
    "import tensorflow as tf\n",
    "import numpy as np\n",
    "import sklearn.metrics as skm\n",
    "import pandas as pd\n",
    "import matplotlib.pyplot as plt\n",
    "import matplotlib.patches as mpatches"
   ]
  },
  {
   "cell_type": "markdown",
   "metadata": {},
   "source": [
    "Then we import our notMNIST data provided to us."
   ]
  },
  {
   "cell_type": "code",
   "execution_count": 2,
   "metadata": {},
   "outputs": [],
   "source": [
    "with np.load(\"notMNIST.npz\") as data:\n",
    "   Data, Target = data[\"images\"], data[\"labels\"]\n",
    "   np.random.seed(521)\n",
    "   randIndx = np.arange(len(Data))\n",
    "   np.random.shuffle(randIndx)\n",
    "   Data = Data[randIndx]/255.\n",
    "   Target = Target[randIndx]\n",
    "   trainData, trainTarget = Data[:15000], Target[:15000]\n",
    "   validData, validTarget = Data[15000:16000], Target[15000:16000]\n",
    "   testData, testTarget = Data[16000:], Target[16000:]"
   ]
  },
  {
   "cell_type": "markdown",
   "metadata": {},
   "source": [
    "Let us begin by querying some important information. We know from the above that there are 18,724 images of 28x28 pixels each. The data was split into training data, validation data, and the test data (15000 used for training, 1000 used for valiation and the remaining 2724 used for testing). \n",
    "\n",
    "To know how many input units there are in our Neural Network, that is equal to the number of pixels there are for each image. So 28 x 28 = 784 which can be verified below. For the output_labels, know that there will be 10 since are 10 alphabets to consider [A-J]."
   ]
  },
  {
   "cell_type": "code",
   "execution_count": 3,
   "metadata": {},
   "outputs": [
    {
     "name": "stdout",
     "output_type": "stream",
     "text": [
      "Input units:  784 , Output labels:  10\n"
     ]
    }
   ],
   "source": [
    "input_units = np.shape(trainData)[1] * np.shape(trainData)[2]\n",
    "output_labels = len(np.unique(Target)) \n",
    "print(\"Input units: \", input_units, \", Output labels: \", output_labels)"
   ]
  },
  {
   "cell_type": "markdown",
   "metadata": {},
   "source": [
    "#### 1.1.1. Layer-wise Building Block\n",
    "We first build the <b>mlp( )</b> function, which is a vectorized TensorFlow function that takes the hidden activations from the previous layer then return the weighted sum of the inputs.<br>\n",
    "<b>Input:</b> the input tensor <b>X</b> and the number of hidden units <br>\n",
    "<b>Output:</b> the computed weighted sum for all the data points in the mini-batch"
   ]
  },
  {
   "cell_type": "code",
   "execution_count": 4,
   "metadata": {},
   "outputs": [],
   "source": [
    "def mlp(X, hidden_units):\n",
    "        # the initializer to be used is the Xavier Initializer\n",
    "   initializer = tf.glorot_normal_initializer()\n",
    "\n",
    "        # we provide the weights for the hidden layer and for the output layer, initialized using Xavier (or Glorot)\n",
    "   weight_matrix = {\n",
    "        'hidden_weight': tf.Variable(initializer([input_units, hidden_units])),\n",
    "        'out_weight': tf.Variable(initializer([hidden_units, output_labels]))\n",
    "    }\n",
    "    \n",
    "        # we provide the biases for the hidden layer and for the output layer, initialized to 0\n",
    "   bias_matrix = {\n",
    "        'hidden_bias': tf.Variable(tf.zeros([hidden_units])),\n",
    "        'out_bias': tf.Variable(tf.zeros([output_labels]))\n",
    "    }\n",
    "    \n",
    "        # building the feedforward neural network\n",
    "   hidden_layer = tf.add(tf.matmul(X, weight_matrix['hidden_weight']), bias_matrix['hidden_bias'])\n",
    "   hidden_layer = tf.nn.relu(hidden_layer)          \n",
    "   output_layer = tf.add(tf.matmul(hidden_layer, weight_matrix['out_weight']), bias_matrix['out_bias'])\n",
    "    \n",
    "   return output_layer"
   ]
  },
  {
   "cell_type": "markdown",
   "metadata": {},
   "source": [
    "#### 1.1.2. Learning\n",
    "We begin by setting up all variables and functions that we will be needing for training."
   ]
  },
  {
   "cell_type": "code",
   "execution_count": 5,
   "metadata": {},
   "outputs": [],
   "source": [
    "    # Define the placeholder tensors, X (represented as input) and y (represented as output)\n",
    "X = tf.placeholder(tf.float32, [None, input_units])\n",
    "y = tf.placeholder(tf.float32, [None, output_labels])"
   ]
  },
  {
   "cell_type": "code",
   "execution_count": 6,
   "metadata": {},
   "outputs": [],
   "source": [
    "    # Set some random seed\n",
    "seed = 64\n",
    "rand = np.random.RandomState(seed)\n",
    "\n",
    "    # We will be running our algorithm under 10 epochs, using a batch size of 150 and the stepping size of 100\n",
    "epochs = 10\n",
    "batch_size = 150\n",
    "step_size = 100\n",
    "\n",
    "    # There are three possible learning rates to consider and try out. We'll use 0.001 for now\n",
    "learning_rate_1 = 0.1\n",
    "learning_rate_2 = 0.01\n",
    "learning_rate_3 = 0.001\n",
    "\n",
    "    # In the next Exercise, we will be playing with the number of hidden units. For now, we'll use 1000\n",
    "hidden_units_1 = 1000\n",
    "hidden_units_2 = 500\n",
    "hidden_units_3 = 100"
   ]
  },
  {
   "cell_type": "markdown",
   "metadata": {},
   "source": [
    "Here, <b>logits</b> is a tensor that calls on the vectorized function that we have written, passing the arguments X, our input tensor and the number of hidden units 1000. This should be able to build an architecture and compute an output vector of 10 given the 28 x 28 = 784 input units of X. \n",
    "\n",
    "The loss computes the mean of the softmax of the logits and y. The optimizer to be used is the AdamOptimizer.\n",
    "\n",
    "The last three lines of the code will help us calculate accuracies and the classification errors."
   ]
  },
  {
   "cell_type": "code",
   "execution_count": 7,
   "metadata": {},
   "outputs": [
    {
     "name": "stdout",
     "output_type": "stream",
     "text": [
      "WARNING:tensorflow:From /anaconda3/lib/python3.6/site-packages/tensorflow/python/framework/op_def_library.py:263: colocate_with (from tensorflow.python.framework.ops) is deprecated and will be removed in a future version.\n",
      "Instructions for updating:\n",
      "Colocations handled automatically by placer.\n",
      "WARNING:tensorflow:From <ipython-input-7-7c986e3d4db6>:3: softmax_cross_entropy_with_logits (from tensorflow.python.ops.nn_ops) is deprecated and will be removed in a future version.\n",
      "Instructions for updating:\n",
      "\n",
      "Future major versions of TensorFlow will allow gradients to flow\n",
      "into the labels input on backprop by default.\n",
      "\n",
      "See `tf.nn.softmax_cross_entropy_with_logits_v2`.\n",
      "\n"
     ]
    }
   ],
   "source": [
    "logits = mlp(X, hidden_units_1)\n",
    "\n",
    "loss = tf.reduce_mean(tf.nn.softmax_cross_entropy_with_logits(logits=logits, labels=y))\n",
    "optimizer = tf.train.AdamOptimizer(learning_rate=learning_rate_3).minimize(loss)\n",
    "\n",
    "corr_pred = tf.equal(tf.argmax(logits, 1), tf.argmax(y, 1))\n",
    "acc = tf.reduce_mean(tf.cast(corr_pred, tf.float32))\n",
    "errors = tf.subtract(tf.size(corr_pred),tf.reduce_sum(tf.cast(corr_pred, tf.int32)))"
   ]
  },
  {
   "cell_type": "markdown",
   "metadata": {},
   "source": [
    "To handle the shape of the targets, we have to convert into one-hot vectors. For example, 2 when one-hot encoded is [0, 0, 1, 0, 0, 0, 0, 0, 0, 0]."
   ]
  },
  {
   "cell_type": "code",
   "execution_count": 8,
   "metadata": {},
   "outputs": [],
   "source": [
    "    # given a label, convert it to one-hot vector\n",
    "def label_encoder(label):\n",
    "   one_hot_vector = np.zeros((10,1))\n",
    "   one_hot_vector[label] = 1;\n",
    "   return one_hot_vector.T\n",
    "\n",
    "    # given a numpy array, convert to one-hot array\n",
    "def one_hot_encoder(arr):\n",
    "   one_hot = []\n",
    "   for x in np.nditer(arr):\n",
    "        one_hot_label = label_encoder(x)\n",
    "        one_hot.append(one_hot_label)\n",
    "   return np.concatenate(one_hot, axis=0)\n",
    "\n",
    "    # use the above methods to transform the targets into one hot arrays\n",
    "newTrainTarget = one_hot_encoder(trainTarget)\n",
    "newValidTarget = one_hot_encoder(validTarget)\n",
    "newTestTarget = one_hot_encoder(testTarget)"
   ]
  },
  {
   "cell_type": "markdown",
   "metadata": {},
   "source": [
    "<b>Here's the fun part. Training!</b>"
   ]
  },
  {
   "cell_type": "code",
   "execution_count": 9,
   "metadata": {},
   "outputs": [
    {
     "name": "stdout",
     "output_type": "stream",
     "text": [
      "(Epoch 0) Minibatch Cross-Entropy Loss: 2.0994, Training Accuracy: 0.3467\n",
      "Average Validation Accuracy for Epoch 0: 0.9067\n",
      "Training done for Epoch 0\n",
      "Testing Accuracy:  0.9052864\n",
      "Training Classification Errors: 1950\n",
      "Validation Classification Errors: 84\n",
      "Testing Classification Errors: 258\n",
      "\n",
      "\n",
      "(Epoch 1) Minibatch Cross-Entropy Loss: 0.3576, Training Accuracy: 0.8733\n",
      "Average Validation Accuracy for Epoch 1: 0.9100\n",
      "Training done for Epoch 1\n",
      "Testing Accuracy:  0.91005874\n",
      "Training Classification Errors: 1241\n",
      "Validation Classification Errors: 81\n",
      "Testing Classification Errors: 245\n",
      "\n",
      "\n",
      "(Epoch 2) Minibatch Cross-Entropy Loss: 0.2880, Training Accuracy: 0.9067\n",
      "Average Validation Accuracy for Epoch 2: 0.9200\n",
      "Training done for Epoch 2\n",
      "Testing Accuracy:  0.91519827\n",
      "Training Classification Errors: 999\n",
      "Validation Classification Errors: 72\n",
      "Testing Classification Errors: 231\n",
      "\n",
      "\n",
      "(Epoch 3) Minibatch Cross-Entropy Loss: 0.2349, Training Accuracy: 0.9267\n",
      "Average Validation Accuracy for Epoch 3: 0.9256\n",
      "Training done for Epoch 3\n",
      "Testing Accuracy:  0.9162996\n",
      "Training Classification Errors: 790\n",
      "Validation Classification Errors: 67\n",
      "Testing Classification Errors: 228\n",
      "\n",
      "\n",
      "(Epoch 4) Minibatch Cross-Entropy Loss: 0.1737, Training Accuracy: 0.9533\n",
      "Average Validation Accuracy for Epoch 4: 0.9244\n",
      "Training done for Epoch 4\n",
      "Testing Accuracy:  0.91226137\n",
      "Training Classification Errors: 603\n",
      "Validation Classification Errors: 68\n",
      "Testing Classification Errors: 239\n",
      "\n",
      "\n",
      "(Epoch 5) Minibatch Cross-Entropy Loss: 0.1393, Training Accuracy: 0.9533\n",
      "Average Validation Accuracy for Epoch 5: 0.9256\n",
      "Training done for Epoch 5\n",
      "Testing Accuracy:  0.9126285\n",
      "Training Classification Errors: 470\n",
      "Validation Classification Errors: 67\n",
      "Testing Classification Errors: 238\n",
      "\n",
      "\n",
      "(Epoch 6) Minibatch Cross-Entropy Loss: 0.1223, Training Accuracy: 0.9667\n",
      "Average Validation Accuracy for Epoch 6: 0.9367\n",
      "Training done for Epoch 6\n",
      "Testing Accuracy:  0.91152716\n",
      "Training Classification Errors: 362\n",
      "Validation Classification Errors: 57\n",
      "Testing Classification Errors: 241\n",
      "\n",
      "\n",
      "(Epoch 7) Minibatch Cross-Entropy Loss: 0.0986, Training Accuracy: 0.9800\n",
      "Average Validation Accuracy for Epoch 7: 0.9300\n",
      "Training done for Epoch 7\n",
      "Testing Accuracy:  0.9082232\n",
      "Training Classification Errors: 284\n",
      "Validation Classification Errors: 63\n",
      "Testing Classification Errors: 250\n",
      "\n",
      "\n",
      "(Epoch 8) Minibatch Cross-Entropy Loss: 0.0847, Training Accuracy: 0.9867\n",
      "Average Validation Accuracy for Epoch 8: 0.9233\n",
      "Training done for Epoch 8\n",
      "Testing Accuracy:  0.9038179\n",
      "Training Classification Errors: 237\n",
      "Validation Classification Errors: 69\n",
      "Testing Classification Errors: 262\n",
      "\n",
      "\n",
      "(Epoch 9) Minibatch Cross-Entropy Loss: 0.0862, Training Accuracy: 0.9800\n",
      "Average Validation Accuracy for Epoch 9: 0.9289\n",
      "Training done for Epoch 9\n",
      "Testing Accuracy:  0.9071219\n",
      "Training Classification Errors: 207\n",
      "Validation Classification Errors: 64\n",
      "Testing Classification Errors: 253\n",
      "\n",
      "\n",
      "Training complete.\n"
     ]
    }
   ],
   "source": [
    "with tf.Session() as sess:\n",
    "    init_op = tf.global_variables_initializer()\n",
    "    sess.run(init_op)\n",
    "    \n",
    "        # initialize some utility lists\n",
    "    cross_entropy_losses = []\n",
    "    training_errors = []\n",
    "    validation_errors = []\n",
    "    validation_error_percentages = []\n",
    "    testing_errors = []\n",
    "    epochs_list = []\n",
    "    \n",
    "        # iterate over the 10 epochs\n",
    "    for epoch in range(epochs):\n",
    "            # by the end of the iteration, we obtain an epoch list [1...10]\n",
    "        epochs_list.append(epoch+1)\n",
    "        \n",
    "            # initialize the misclassifications for training, validation and testing as 0\n",
    "        training_wrong_label = 0\n",
    "        validating_wrong_label = 0\n",
    "        testing_wrong_label = 0\n",
    "        \n",
    "            # splitting into batches of size 150\n",
    "        batch_train = np.shape(trainData)[0]\n",
    "        total_batch = int(batch_train/batch_size)\n",
    "        train_batches_X = np.array_split(trainData, total_batch)\n",
    "        train_batches_Y = np.array_split(newTrainTarget, total_batch)\n",
    "\n",
    "            # training each batch\n",
    "        for i in range(total_batch):\n",
    "            train_batch_x, train_batch_y = train_batches_X[i], train_batches_Y[i]\n",
    "            train_batch_x = train_batch_x.reshape(150,784)\n",
    "            train_batch_y = train_batch_y.reshape(150,10)\n",
    "            \n",
    "                # backprop - running the optimizer\n",
    "            sess.run(optimizer,feed_dict={X: train_batch_x, y: train_batch_y})\n",
    "            \n",
    "                # mapping numericals (or tensors) X and y to batch train data (computational graph)\n",
    "                # then for each epoch, the cross-entropy loss and the training accuracy are printed out\n",
    "                # also remember the cross_entropy losses per epoch\n",
    "            if i % step_size == 0 or i == 0:\n",
    "                loss_value, acc_value = sess.run([loss, acc],feed_dict = {X: train_batch_x, y: train_batch_y})\n",
    "                print(\"(Epoch \" + str(epoch) + \") Minibatch Cross-Entropy Loss: \" + \"{:.4f}\".format(loss_value) + \", Training Accuracy: \" + \"{:.4f}\".format(acc_value))\n",
    "                cross_entropy_losses.append(loss_value)\n",
    "            \n",
    "                # compute how many misclassifications per batch\n",
    "            training_wrong_label += errors.eval({X: train_batch_x, y: train_batch_y})\n",
    "            \n",
    "            # validation data downsized to 900 then split into batches\n",
    "        valid_batch = int(np.shape(validData)[0]/batch_size)\n",
    "        valid_batches_X = np.array_split(validData[:900], valid_batch)\n",
    "        valid_batches_Y = np.array_split(newValidTarget[:900], valid_batch)\n",
    "        average_validation_acc = 0\n",
    "        \n",
    "            # iterate over each batch\n",
    "            # also compute for the validation accuracy to verify whether the increase of training accuracy would\n",
    "            #     actually means an increase in accuracy for data that the neural network has not yet seen\n",
    "        for j in range(valid_batch):\n",
    "            valid_batch_x, valid_batch_y = valid_batches_X[j], valid_batches_Y[j]\n",
    "            valid_batch_x = valid_batch_x.reshape(150,784)\n",
    "            valid_batch_y = valid_batch_y.reshape(150,10)\n",
    "            average_validation_acc += acc.eval({X: valid_batch_x, y: valid_batch_y})/valid_batch\n",
    "        \n",
    "                # then compute how many misclassifcations per batch in the validation\n",
    "            validating_wrong_label += errors.eval({X: valid_batch_x, y: valid_batch_y})\n",
    "            \n",
    "                # validation error is the compliement of the accuracy\n",
    "            final_validation_error = 1 - acc.eval({X: valid_batch_x, y: valid_batch_y})\n",
    "            \n",
    "            # validation errors in % in a list\n",
    "        validation_error_percentages.append(final_validation_error)\n",
    "        \n",
    "            # print the average validation accuracy per epoch\n",
    "        print(\"Average Validation Accuracy for Epoch \" + str(epoch) + \": \" + \"{:.4f}\".format(average_validation_acc))\n",
    "        \n",
    "        print(\"Training done for Epoch \" + str(epoch))\n",
    "\n",
    "            # Reshape test data and target\n",
    "        newTestData = testData.reshape(2724,784)\n",
    "        newTestTarget = newTestTarget.reshape(2724,10)\n",
    "\n",
    "            # Calculate testing accuracy\n",
    "        print(\"Testing Accuracy: \", acc.eval({X: newTestData, y: newTestTarget}))\n",
    "        \n",
    "            # count how many misclassifications in the test data\n",
    "        testing_wrong_label = errors.eval({X: newTestData, y: newTestTarget})\n",
    "        \n",
    "            # store the classfication errors in lists then print them\n",
    "        training_errors.append(training_wrong_label)\n",
    "        validation_errors.append(validating_wrong_label)\n",
    "        testing_errors.append(testing_wrong_label)\n",
    "        print(\"Training Classification Errors: \" + str(training_wrong_label))\n",
    "        print(\"Validation Classification Errors: \" + str(validating_wrong_label))\n",
    "        print(\"Testing Classification Errors: \" + str(testing_wrong_label))\n",
    "        print(\"\\n\")\n",
    "    \n",
    "    print(\"Training complete.\")"
   ]
  },
  {
   "cell_type": "markdown",
   "metadata": {},
   "source": [
    "In the above, we have seen some numbers (such as loss, accuracy, classification errors, etc.) per epoch out of the 10 epochs. We have recorded down the classification errors and losses after each epoch and stored them in a list:"
   ]
  },
  {
   "cell_type": "code",
   "execution_count": 10,
   "metadata": {},
   "outputs": [
    {
     "name": "stdout",
     "output_type": "stream",
     "text": [
      "Cross Entropy Losses [2.0994325, 0.35755852, 0.28798264, 0.23488232, 0.17367825, 0.13926852, 0.12232388, 0.09860253, 0.08473117, 0.08621784]\n",
      "Training Classification Errors [1950, 1241, 999, 790, 603, 470, 362, 284, 237, 207]\n",
      "Validation Classification Errors [84, 81, 72, 67, 68, 67, 57, 63, 69, 64]\n",
      "Testing Classification Errors [258, 245, 231, 228, 239, 238, 241, 250, 262, 253]\n"
     ]
    }
   ],
   "source": [
    "print(\"Cross Entropy Losses\", cross_entropy_losses)\n",
    "print(\"Training Classification Errors\", training_errors)\n",
    "print(\"Validation Classification Errors\", validation_errors)\n",
    "print(\"Testing Classification Errors\", testing_errors)"
   ]
  },
  {
   "cell_type": "markdown",
   "metadata": {},
   "source": [
    "We will be plotting them below. In the first plot, we plot the classification errors (training/validation/testing) vs the number of epochs, using the <b>matplotlib</b> library. In the second plot, we plot the cross entropy loss vs the number of epochs."
   ]
  },
  {
   "cell_type": "code",
   "execution_count": 11,
   "metadata": {},
   "outputs": [
    {
     "data": {
      "image/png": "[encoded data removed]",
      "text/plain": [
       "<Figure size 432x288 with 1 Axes>"
      ]
     },
     "metadata": {},
     "output_type": "display_data"
    }
   ],
   "source": [
    "plt.plot(epochs_list, training_errors, 'r')\n",
    "plt.plot(epochs_list, validation_errors, 'g')\n",
    "plt.plot(epochs_list, testing_errors, 'b')\n",
    "\n",
    "red_patch = mpatches.Patch(color='red', label='Training Classification Errors')\n",
    "green_patch = mpatches.Patch(color='green', label='Valdiation Classification Errors')\n",
    "blue_patch = mpatches.Patch(color='blue', label='Testing Classification Errors')\n",
    "\n",
    "plt.xlabel('Number of Epochs')\n",
    "plt.ylabel('Classification Errors')\n",
    "plt.legend(handles=[red_patch, green_patch, blue_patch])\n",
    "plt.show()"
   ]
  },
  {
   "cell_type": "code",
   "execution_count": 12,
   "metadata": {},
   "outputs": [
    {
     "data": {
      "image/png": "[encoded data removed]",
      "text/plain": [
       "<Figure size 432x288 with 1 Axes>"
      ]
     },
     "metadata": {},
     "output_type": "display_data"
    }
   ],
   "source": [
    "plt.plot(epochs_list, cross_entropy_losses)\n",
    "plt.xlabel('Number of Epochs')\n",
    "plt.ylabel('Cross-Entropy Loss')\n",
    "plt.show()"
   ]
  },
  {
   "cell_type": "markdown",
   "metadata": {},
   "source": [
    "One observation to make here is that the cross entropy losses and the training accuracies are decreasing the more epochs that the training undergoes. And this is a good indication that the neural network is <b>learning</b>! The number of validation and testing classification errors seem to be stable throughout the training. At epoch ~9, we have observed that the training accuracy has surpassed the testing accuracy (or the number of training classification errors has now become less than the testing classification errors). We can see this in our first plot."
   ]
  },
  {
   "cell_type": "markdown",
   "metadata": {},
   "source": [
    "#### 1.1.3. Early Stopping\n",
    "To avoid overfitting, we apply an <b>early stopping procedure</b>, which is a simple method that we can apply. This just means that at the point of early stopping, we can force the neural network to stop training/learning because it has already reached a very good accuracy, one such that by doing more training can detriment the testing accuracy. So we stop the training from that point of early stopping.\n",
    "\n",
    "In our case, we can examine the first plot and say that the stopping point should be at the 9th epoch (epoch 8 when indexed at 0). As mentione earlier, the training accuracy has beaten the testing accuracy past this point and this is why at this point, we can stop the training and this will be considered the early stopping.\n",
    "\n",
    "Below are the classification errors at that stopping point."
   ]
  },
  {
   "cell_type": "code",
   "execution_count": 13,
   "metadata": {},
   "outputs": [
    {
     "name": "stdout",
     "output_type": "stream",
     "text": [
      "Training Classification Errors at Stopping Point: 237\n",
      "Validation Classification Errors at Stopping Point: 69\n",
      "Testing Classification Errors at Stopping Point: 262\n"
     ]
    }
   ],
   "source": [
    "print(\"Training Classification Errors at Stopping Point:\", training_errors[8])\n",
    "print(\"Validation Classification Errors at Stopping Point:\", validation_errors[8])\n",
    "print(\"Testing Classification Errors at Stopping Point:\", testing_errors[8])"
   ]
  },
  {
   "cell_type": "markdown",
   "metadata": {},
   "source": [
    "If we consider the cross entropy loss plot, we see that the losses are monotonically decreasing, except at the 9th epoch (epoch 8 when indexed from 0) (then increasing thereafter) which means that the early stopping point is here. \n",
    "\n",
    "So obviously the stopping points of the first and second plots are the same and we can definitely follow either one of them."
   ]
  },
  {
   "cell_type": "markdown",
   "metadata": {},
   "source": [
    "### 1.2 Effects of Hyperparameters\n",
    "In this Exercise, we will be tweaking the number of hidden units, as well as the number of hidden layers. And see how this affects learning and performance."
   ]
  },
  {
   "cell_type": "markdown",
   "metadata": {},
   "source": [
    "#### 1.2.1. Number of Hidden Units\n",
    "We just have taken a look at the case when there are 1000 hidden units. So we just need to take a look at 100 and 500 hidden units. Following from the previous exercise, the validation_error_percentages list contains the list of validation errors per epoch. And we will be storing the min of each of the list for 1000, 500 and 100 in some variables and do the comparison of models from there. So now, we'll do the one for 1000:"
   ]
  },
  {
   "cell_type": "code",
   "execution_count": 14,
   "metadata": {},
   "outputs": [
    {
     "data": {
      "text/plain": [
       "0.04666668176651001"
      ]
     },
     "execution_count": 14,
     "metadata": {},
     "output_type": "execute_result"
    }
   ],
   "source": [
    "best_validation_error_1000 = min(validation_error_percentages)\n",
    "best_validation_error_1000"
   ]
  },
  {
   "cell_type": "markdown",
   "metadata": {},
   "source": [
    "Let us now take a look at the model with 500 hidden units. "
   ]
  },
  {
   "cell_type": "code",
   "execution_count": 15,
   "metadata": {},
   "outputs": [
    {
     "name": "stdout",
     "output_type": "stream",
     "text": [
      "Training done for Epoch 0\n",
      "Training done for Epoch 1\n",
      "Training done for Epoch 2\n",
      "Training done for Epoch 3\n",
      "Training done for Epoch 4\n",
      "Training done for Epoch 5\n",
      "Training done for Epoch 6\n",
      "Training done for Epoch 7\n",
      "Training done for Epoch 8\n",
      "Training done for Epoch 9\n",
      "Training complete.\n"
     ]
    }
   ],
   "source": [
    "X1 = tf.placeholder(tf.float32, [None, input_units])\n",
    "y1 = tf.placeholder(tf.float32, [None, output_labels])\n",
    "\n",
    "logits1 = mlp(X1, hidden_units_2)      # note: hidden_units_2 = 500\n",
    "\n",
    "loss1 = tf.reduce_mean(tf.nn.softmax_cross_entropy_with_logits(logits=logits1, labels=y1))\n",
    "optimizer1 = tf.train.AdamOptimizer(learning_rate=learning_rate_3).minimize(loss1)\n",
    "\n",
    "corr_pred1 = tf.equal(tf.argmax(logits1, 1), tf.argmax(y1, 1))\n",
    "acc1 = tf.reduce_mean(tf.cast(corr_pred1, tf.float32))\n",
    "errors1 = tf.subtract(tf.size(corr_pred1),tf.reduce_sum(tf.cast(corr_pred1, tf.int32)))\n",
    "\n",
    "with tf.Session() as sess:\n",
    "    init_op = tf.global_variables_initializer()\n",
    "    sess.run(init_op)\n",
    "    \n",
    "    validation_error_percentages = []\n",
    "    \n",
    "    for epoch in range(epochs):\n",
    "        batch_train = np.shape(trainData)[0]\n",
    "        total_batch = int(batch_train/batch_size)\n",
    "        train_batches_X = np.array_split(trainData, total_batch)\n",
    "        train_batches_Y = np.array_split(newTrainTarget, total_batch)\n",
    "\n",
    "        for i in range(total_batch):\n",
    "            train_batch_x, train_batch_y = train_batches_X[i], train_batches_Y[i]\n",
    "            train_batch_x = train_batch_x.reshape(150,784)\n",
    "            train_batch_y = train_batch_y.reshape(150,10)\n",
    "            \n",
    "            sess.run(optimizer1,feed_dict={X1: train_batch_x, y1: train_batch_y})\n",
    "            if i % step_size == 0 or i == 0:\n",
    "                loss_value, acc_value = sess.run([loss1, acc1],feed_dict = {X1: train_batch_x, y1: train_batch_y})\n",
    "            \n",
    "        valid_batch = int(np.shape(validData)[0]/batch_size)\n",
    "        valid_batches_X = np.array_split(validData[:900], valid_batch)\n",
    "        valid_batches_Y = np.array_split(newValidTarget[:900], valid_batch)\n",
    "        \n",
    "        for j in range(valid_batch):\n",
    "            valid_batch_x, valid_batch_y = valid_batches_X[j], valid_batches_Y[j]\n",
    "            valid_batch_x = valid_batch_x.reshape(150,784)\n",
    "            valid_batch_y = valid_batch_y.reshape(150,10)\n",
    "            \n",
    "            final_validation_error = 1 - acc1.eval({X1: valid_batch_x, y1: valid_batch_y})\n",
    "            \n",
    "        validation_error_percentages.append(final_validation_error)\n",
    "        \n",
    "        print(\"Training done for Epoch \" + str(epoch))\n",
    "\n",
    "    print(\"Training complete.\")"
   ]
  },
  {
   "cell_type": "markdown",
   "metadata": {},
   "source": [
    "Then find the best validation error among the epochs for hidden_units = 500"
   ]
  },
  {
   "cell_type": "code",
   "execution_count": 16,
   "metadata": {},
   "outputs": [
    {
     "data": {
      "text/plain": [
       "0.04666668176651001"
      ]
     },
     "execution_count": 16,
     "metadata": {},
     "output_type": "execute_result"
    }
   ],
   "source": [
    "best_validation_error_500 = min(validation_error_percentages)\n",
    "best_validation_error_500"
   ]
  },
  {
   "cell_type": "markdown",
   "metadata": {},
   "source": [
    "Now we shall replicate the same task above but this time for 100 hidden units."
   ]
  },
  {
   "cell_type": "code",
   "execution_count": 17,
   "metadata": {},
   "outputs": [
    {
     "name": "stdout",
     "output_type": "stream",
     "text": [
      "Training done for Epoch 0\n",
      "Training done for Epoch 1\n",
      "Training done for Epoch 2\n",
      "Training done for Epoch 3\n",
      "Training done for Epoch 4\n",
      "Training done for Epoch 5\n",
      "Training done for Epoch 6\n",
      "Training done for Epoch 7\n",
      "Training done for Epoch 8\n",
      "Training done for Epoch 9\n",
      "Training complete.\n"
     ]
    }
   ],
   "source": [
    "X2 = tf.placeholder(tf.float32, [None, input_units])\n",
    "y2 = tf.placeholder(tf.float32, [None, output_labels])\n",
    "\n",
    "logits2 = mlp(X2, hidden_units_3)      # note: hidden_units_3 = 100\n",
    "\n",
    "loss2 = tf.reduce_mean(tf.nn.softmax_cross_entropy_with_logits(logits=logits2, labels=y2))\n",
    "optimizer2 = tf.train.AdamOptimizer(learning_rate=learning_rate_3).minimize(loss2)\n",
    "\n",
    "corr_pred2 = tf.equal(tf.argmax(logits2, 1), tf.argmax(y2, 1))\n",
    "acc2 = tf.reduce_mean(tf.cast(corr_pred2, tf.float32))\n",
    "errors2 = tf.subtract(tf.size(corr_pred2),tf.reduce_sum(tf.cast(corr_pred2, tf.int32)))\n",
    "\n",
    "with tf.Session() as sess:\n",
    "    init_op = tf.global_variables_initializer()\n",
    "    sess.run(init_op)\n",
    "    \n",
    "    validation_error_percentages = []\n",
    "    \n",
    "    for epoch in range(epochs):\n",
    "        batch_train = np.shape(trainData)[0]\n",
    "        total_batch = int(batch_train/batch_size)\n",
    "        train_batches_X = np.array_split(trainData, total_batch)\n",
    "        train_batches_Y = np.array_split(newTrainTarget, total_batch)\n",
    "\n",
    "        for i in range(total_batch):\n",
    "            train_batch_x, train_batch_y = train_batches_X[i], train_batches_Y[i]\n",
    "            train_batch_x = train_batch_x.reshape(150,784)\n",
    "            train_batch_y = train_batch_y.reshape(150,10)\n",
    "            \n",
    "            sess.run(optimizer2,feed_dict={X2: train_batch_x, y2: train_batch_y})\n",
    "            if i % step_size == 0 or i == 0:\n",
    "                loss_value, acc_value = sess.run([loss2, acc2],feed_dict = {X2: train_batch_x, y2: train_batch_y})\n",
    "            \n",
    "        valid_batch = int(np.shape(validData)[0]/batch_size)\n",
    "        valid_batches_X = np.array_split(validData[:900], valid_batch)\n",
    "        valid_batches_Y = np.array_split(newValidTarget[:900], valid_batch)\n",
    "        \n",
    "        for j in range(valid_batch):\n",
    "            valid_batch_x, valid_batch_y = valid_batches_X[j], valid_batches_Y[j]\n",
    "            valid_batch_x = valid_batch_x.reshape(150,784)\n",
    "            valid_batch_y = valid_batch_y.reshape(150,10)\n",
    "            \n",
    "            final_validation_error = 1 - acc2.eval({X2: valid_batch_x, y2: valid_batch_y})\n",
    "            \n",
    "        validation_error_percentages.append(final_validation_error)\n",
    "        \n",
    "        print(\"Training done for Epoch \" + str(epoch))\n",
    "\n",
    "    print(\"Training complete.\")"
   ]
  },
  {
   "cell_type": "markdown",
   "metadata": {},
   "source": [
    "Then find the best validation error among the epochs for hidden_units = 100"
   ]
  },
  {
   "cell_type": "code",
   "execution_count": 18,
   "metadata": {},
   "outputs": [
    {
     "data": {
      "text/plain": [
       "0.06666666269302368"
      ]
     },
     "execution_count": 18,
     "metadata": {},
     "output_type": "execute_result"
    }
   ],
   "source": [
    "best_validation_error_100 = min(validation_error_percentages)\n",
    "best_validation_error_100"
   ]
  },
  {
   "cell_type": "markdown",
   "metadata": {},
   "source": [
    "Now let's see which among the three models give the best valiation error."
   ]
  },
  {
   "cell_type": "code",
   "execution_count": 19,
   "metadata": {},
   "outputs": [
    {
     "name": "stdout",
     "output_type": "stream",
     "text": [
      "Validation Error for 1000 hidden units:  0.04666668176651001\n",
      "Validation Error for 500 hidden units:  0.04666668176651001\n",
      "Validation Error for 100 hidden units:  0.06666666269302368\n"
     ]
    },
    {
     "data": {
      "text/plain": [
       "0.04666668176651001"
      ]
     },
     "execution_count": 19,
     "metadata": {},
     "output_type": "execute_result"
    }
   ],
   "source": [
    "print(\"Validation Error for 1000 hidden units: \", best_validation_error_1000)\n",
    "print(\"Validation Error for 500 hidden units: \", best_validation_error_500)\n",
    "print(\"Validation Error for 100 hidden units: \", best_validation_error_100)\n",
    "np.min([best_validation_error_1000,best_validation_error_500,best_validation_error_100])"
   ]
  },
  {
   "cell_type": "markdown",
   "metadata": {},
   "source": [
    "It seems like that the validation error for either the 1000 or 500 hidden unit model gives the same. Let's use the 1000-hidden unit model anyway. Below shows the testing classification error:"
   ]
  },
  {
   "cell_type": "code",
   "execution_count": 20,
   "metadata": {},
   "outputs": [
    {
     "name": "stdout",
     "output_type": "stream",
     "text": [
      "Testing Classification Errors:  240\n"
     ]
    }
   ],
   "source": [
    "with tf.Session() as sess:\n",
    "    init_op = tf.global_variables_initializer()\n",
    "    sess.run(init_op)\n",
    "    \n",
    "    for epoch in range(epochs):\n",
    "        batch_train = np.shape(trainData)[0]\n",
    "        total_batch = int(batch_train/batch_size)\n",
    "        train_batches_X = np.array_split(trainData, total_batch)\n",
    "        train_batches_Y = np.array_split(newTrainTarget, total_batch)\n",
    "\n",
    "        for i in range(total_batch):\n",
    "            train_batch_x, train_batch_y = train_batches_X[i], train_batches_Y[i]\n",
    "            train_batch_x = train_batch_x.reshape(150,784)\n",
    "            train_batch_y = train_batch_y.reshape(150,10)\n",
    "            \n",
    "            sess.run(optimizer,feed_dict={X: train_batch_x, y: train_batch_y})\n",
    "            \n",
    "            if i % step_size == 0 or i == 0:\n",
    "                loss_value, acc_value = sess.run([loss, acc],feed_dict = {X: train_batch_x, y: train_batch_y})\n",
    "             \n",
    "    newTestData = testData.reshape(2724,784)\n",
    "    newTestTarget = newTestTarget.reshape(2724,10)\n",
    " \n",
    "    testing_wrong_label = errors.eval({X: newTestData, y: newTestTarget})\n",
    "    print(\"Testing Classification Errors: \", testing_wrong_label)"
   ]
  },
  {
   "cell_type": "markdown",
   "metadata": {},
   "source": [
    "We can observe that the more hidden units a neural network architecture has, the less misclassification it has and therefore can achieve a higher accuracy (i.e. better performance)."
   ]
  },
  {
   "cell_type": "markdown",
   "metadata": {},
   "source": [
    "#### 1.2.2. Number of Hidden Layers\n",
    "For this Exercise, we will be using 2 Hidden Layers of 500 Hidden Units each (total of 1000 hidden units). And then we shall compare its performance with the performance of our first model.\n",
    "\n",
    "Since each of our two hidden layers would be having the same number of hidden units, we can use a similar version of our vectorized Python function from Ex 1.1.1. that takes in two parameters, a tensor and the number of hidden units (in this case is 500 per hidden)."
   ]
  },
  {
   "cell_type": "code",
   "execution_count": 21,
   "metadata": {},
   "outputs": [],
   "source": [
    "def mlp2(X, hidden_units):\n",
    "   initializer = tf.glorot_normal_initializer()\n",
    "\n",
    "   weight_matrix = {\n",
    "        'hidden_weight_1': tf.Variable(initializer([input_units, hidden_units])),\n",
    "        'hidden_weight_2': tf.Variable(initializer([hidden_units, hidden_units])),\n",
    "        'out_weight': tf.Variable(initializer([hidden_units, output_labels]))\n",
    "    }\n",
    "    \n",
    "   bias_matrix = {\n",
    "        'hidden_bias_1': tf.Variable(tf.zeros([hidden_units])),\n",
    "        'hidden_bias_2': tf.Variable(tf.zeros([hidden_units])),\n",
    "        'out_bias': tf.Variable(tf.zeros([output_labels]))\n",
    "    }\n",
    "    \n",
    "        # building the feedforward neural network\n",
    "   hidden_layer_1 = tf.add(tf.matmul(X, weight_matrix['hidden_weight_1']), bias_matrix['hidden_bias_1'])\n",
    "   hidden_layer_1 = tf.nn.relu(hidden_layer_1)\n",
    "   hidden_layer_2 = tf.add(tf.matmul(hidden_layer_1, weight_matrix['hidden_weight_2']), bias_matrix['hidden_bias_2'])\n",
    "   hidden_layer_2 = tf.nn.relu(hidden_layer_2) \n",
    "   output_layer = tf.add(tf.matmul(hidden_layer_2, weight_matrix['out_weight']), bias_matrix['out_bias'])\n",
    "    \n",
    "   return output_layer"
   ]
  },
  {
   "cell_type": "code",
   "execution_count": 22,
   "metadata": {},
   "outputs": [],
   "source": [
    "X2 = tf.placeholder(tf.float32, [None, input_units])\n",
    "y2 = tf.placeholder(tf.float32, [None, output_labels])\n",
    "\n",
    "logits2 = mlp2(X2, hidden_units_2)\n",
    "\n",
    "loss2 = tf.reduce_mean(tf.nn.softmax_cross_entropy_with_logits(logits=logits2, labels=y2))\n",
    "optimizer2 = tf.train.AdamOptimizer(learning_rate=learning_rate_3).minimize(loss2)\n",
    "\n",
    "corr_pred2 = tf.equal(tf.argmax(logits2, 1), tf.argmax(y2, 1))\n",
    "acc2 = tf.reduce_mean(tf.cast(corr_pred2, tf.float32))\n",
    "errors2 = tf.subtract(tf.size(corr_pred2),tf.reduce_sum(tf.cast(corr_pred2, tf.int32)))"
   ]
  },
  {
   "cell_type": "code",
   "execution_count": 23,
   "metadata": {},
   "outputs": [
    {
     "name": "stdout",
     "output_type": "stream",
     "text": [
      "Training done for Epoch 0\n",
      "Training done for Epoch 1\n",
      "Training done for Epoch 2\n",
      "Training done for Epoch 3\n",
      "Training done for Epoch 4\n",
      "Training done for Epoch 5\n",
      "Training done for Epoch 6\n",
      "Training done for Epoch 7\n",
      "Training done for Epoch 8\n",
      "Training done for Epoch 9\n",
      "Testing Accuracy:  0.90161526\n",
      "Training complete.\n"
     ]
    }
   ],
   "source": [
    "with tf.Session() as sess:\n",
    "    init_op = tf.global_variables_initializer()\n",
    "    sess.run(init_op)\n",
    "    \n",
    "    training_errors = []\n",
    "    validation_errors = []\n",
    "    validation_error_percentages = []\n",
    "    epochs_list = []\n",
    "    \n",
    "    for epoch in range(epochs):\n",
    "        epochs_list.append(epoch+1)\n",
    "        \n",
    "        training_wrong_label = 0\n",
    "        validating_wrong_label = 0\n",
    "        \n",
    "        batch_train = np.shape(trainData)[0]\n",
    "        total_batch = int(batch_train/batch_size)\n",
    "        train_batches_X = np.array_split(trainData, total_batch)\n",
    "        train_batches_Y = np.array_split(newTrainTarget, total_batch)\n",
    "\n",
    "        for i in range(total_batch):\n",
    "            train_batch_x, train_batch_y = train_batches_X[i], train_batches_Y[i]\n",
    "            train_batch_x = train_batch_x.reshape(150,784)\n",
    "            train_batch_y = train_batch_y.reshape(150,10)\n",
    "            \n",
    "            sess.run(optimizer2,feed_dict={X2: train_batch_x, y2: train_batch_y})\n",
    "            \n",
    "            if i % step_size == 0 or i == 0:\n",
    "                loss_value, acc_value = sess.run([loss2, acc2],feed_dict = {X2: train_batch_x, y2: train_batch_y})\n",
    "            \n",
    "            training_wrong_label += errors2.eval({X2: train_batch_x, y2: train_batch_y})\n",
    "            \n",
    "        training_errors.append(training_wrong_label)\n",
    "            \n",
    "        valid_batch = int(np.shape(validData)[0]/batch_size)\n",
    "        valid_batches_X = np.array_split(validData[:900], valid_batch)\n",
    "        valid_batches_Y = np.array_split(newValidTarget[:900], valid_batch)\n",
    "        \n",
    "        for j in range(valid_batch):\n",
    "            valid_batch_x, valid_batch_y = valid_batches_X[j], valid_batches_Y[j]\n",
    "            valid_batch_x = valid_batch_x.reshape(150,784)\n",
    "            valid_batch_y = valid_batch_y.reshape(150,10)\n",
    "        \n",
    "            validating_wrong_label += errors2.eval({X2: valid_batch_x, y2: valid_batch_y})\n",
    "            \n",
    "            final_validation_error = 1 - acc2.eval({X2: valid_batch_x, y2: valid_batch_y})\n",
    "            \n",
    "        validation_errors.append(validating_wrong_label)\n",
    "        validation_error_percentages.append(final_validation_error)\n",
    "        \n",
    "        \n",
    "        print(\"Training done for Epoch \" + str(epoch))\n",
    "\n",
    "    newTestData = testData.reshape(2724,784)\n",
    "    newTestTarget = newTestTarget.reshape(2724,10)\n",
    "\n",
    "    test_acc = acc2.eval({X2: newTestData, y2: newTestTarget})\n",
    "    print(\"Testing Accuracy: \", test_acc)\n",
    "    \n",
    "    print(\"Training complete.\")"
   ]
  },
  {
   "cell_type": "markdown",
   "metadata": {},
   "source": [
    "And here is the plot for training/validaiton classification errors vs the number of epochs"
   ]
  },
  {
   "cell_type": "code",
   "execution_count": 24,
   "metadata": {},
   "outputs": [
    {
     "data": {
      "image/png": "[encoded data removed]",
      "text/plain": [
       "<Figure size 432x288 with 1 Axes>"
      ]
     },
     "metadata": {},
     "output_type": "display_data"
    }
   ],
   "source": [
    "plt.plot(epochs_list, training_errors, 'r')\n",
    "plt.plot(epochs_list, validation_errors, 'g')\n",
    "\n",
    "red_patch = mpatches.Patch(color='red', label='Training Classification Errors')\n",
    "green_patch = mpatches.Patch(color='green', label='Valdiation Classification Errors')\n",
    "\n",
    "plt.xlabel('Number of Epochs')\n",
    "plt.ylabel('Classification Errors')\n",
    "plt.legend(handles=[red_patch, green_patch])\n",
    "plt.show()"
   ]
  },
  {
   "cell_type": "markdown",
   "metadata": {},
   "source": [
    "And here are the final validation errors after the training is complete:"
   ]
  },
  {
   "cell_type": "code",
   "execution_count": 25,
   "metadata": {},
   "outputs": [
    {
     "name": "stdout",
     "output_type": "stream",
     "text": [
      "Final Validation Error:  0.06000000238418579\n",
      "Final Validation Classification Error:  70\n"
     ]
    }
   ],
   "source": [
    "print(\"Final Validation Error: \", validation_error_percentages[9])\n",
    "print(\"Final Validation Classification Error: \", validation_errors[9])"
   ]
  },
  {
   "cell_type": "markdown",
   "metadata": {},
   "source": [
    "The testing accuracy for the 2-layer case gives us 90.2%"
   ]
  },
  {
   "cell_type": "code",
   "execution_count": 26,
   "metadata": {},
   "outputs": [
    {
     "data": {
      "text/plain": [
       "0.90161526"
      ]
     },
     "execution_count": 26,
     "metadata": {},
     "output_type": "execute_result"
    }
   ],
   "source": [
    "test_acc_2_layers = test_acc\n",
    "test_acc_2_layers"
   ]
  },
  {
   "cell_type": "markdown",
   "metadata": {},
   "source": [
    "Let us try running the 1-layer case again of 500 hidden units. Then make a comparison."
   ]
  },
  {
   "cell_type": "code",
   "execution_count": 27,
   "metadata": {},
   "outputs": [
    {
     "name": "stdout",
     "output_type": "stream",
     "text": [
      "Training done for Epoch 0\n",
      "Training done for Epoch 1\n",
      "Training done for Epoch 2\n",
      "Training done for Epoch 3\n",
      "Training done for Epoch 4\n",
      "Training done for Epoch 5\n",
      "Training done for Epoch 6\n",
      "Training done for Epoch 7\n",
      "Training done for Epoch 8\n",
      "Training done for Epoch 9\n",
      "Testing Accuracy:  0.9170338\n",
      "Training complete.\n"
     ]
    }
   ],
   "source": [
    "X1 = tf.placeholder(tf.float32, [None, input_units])\n",
    "y1 = tf.placeholder(tf.float32, [None, output_labels])\n",
    "\n",
    "logits1 = mlp(X1, hidden_units_2)      # note: hidden_units_2 = 500\n",
    "\n",
    "loss1 = tf.reduce_mean(tf.nn.softmax_cross_entropy_with_logits(logits=logits1, labels=y1))\n",
    "optimizer1 = tf.train.AdamOptimizer(learning_rate=learning_rate_3).minimize(loss1)\n",
    "\n",
    "corr_pred1 = tf.equal(tf.argmax(logits1, 1), tf.argmax(y1, 1))\n",
    "acc1 = tf.reduce_mean(tf.cast(corr_pred1, tf.float32))\n",
    "errors1 = tf.subtract(tf.size(corr_pred1),tf.reduce_sum(tf.cast(corr_pred1, tf.int32)))\n",
    "\n",
    "with tf.Session() as sess:\n",
    "    init_op = tf.global_variables_initializer()\n",
    "    sess.run(init_op)\n",
    "    \n",
    "    for epoch in range(epochs):\n",
    "        batch_train = np.shape(trainData)[0]\n",
    "        total_batch = int(batch_train/batch_size)\n",
    "        train_batches_X = np.array_split(trainData, total_batch)\n",
    "        train_batches_Y = np.array_split(newTrainTarget, total_batch)\n",
    "\n",
    "        for i in range(total_batch):\n",
    "            train_batch_x, train_batch_y = train_batches_X[i], train_batches_Y[i]\n",
    "            train_batch_x = train_batch_x.reshape(150,784)\n",
    "            train_batch_y = train_batch_y.reshape(150,10)\n",
    "            \n",
    "            sess.run(optimizer1,feed_dict={X1: train_batch_x, y1: train_batch_y})\n",
    "            if i % step_size == 0 or i == 0:\n",
    "                loss_value, acc_value = sess.run([loss1, acc1],feed_dict = {X1: train_batch_x, y1: train_batch_y})\n",
    "            \n",
    "        valid_batch = int(np.shape(validData)[0]/batch_size)\n",
    "        valid_batches_X = np.array_split(validData[:900], valid_batch)\n",
    "        valid_batches_Y = np.array_split(newValidTarget[:900], valid_batch)\n",
    "        \n",
    "        for j in range(valid_batch):\n",
    "            valid_batch_x, valid_batch_y = valid_batches_X[j], valid_batches_Y[j]\n",
    "            valid_batch_x = valid_batch_x.reshape(150,784)\n",
    "            valid_batch_y = valid_batch_y.reshape(150,10)\n",
    "            \n",
    "            final_validation_error = 1 - acc1.eval({X1: valid_batch_x, y1: valid_batch_y})\n",
    "        \n",
    "        print(\"Training done for Epoch \" + str(epoch))\n",
    "        \n",
    "    newTestData = testData.reshape(2724,784)\n",
    "    newTestTarget = newTestTarget.reshape(2724,10)\n",
    "\n",
    "    test_acc_1_layer = acc1.eval({X1: newTestData, y1: newTestTarget})\n",
    "    print(\"Testing Accuracy: \", test_acc_1_layer)\n",
    "\n",
    "    print(\"Training complete.\")"
   ]
  },
  {
   "cell_type": "markdown",
   "metadata": {},
   "source": [
    "As one can see, the testing accuracy of the 1-layer case for 500 hidden units seems to be performing slightly better at 91.7% compared to the 90.2% accuracy of the 2-layer case. This might be because that the more layers a neural net architecture has, the more nonlinearities are applied to the data and more distangling of the data before the classification of the final layer."
   ]
  },
  {
   "cell_type": "markdown",
   "metadata": {},
   "source": [
    "### Regularization and Visualization\n",
    "Here, we will be working with dropouts and visualizations."
   ]
  },
  {
   "cell_type": "markdown",
   "metadata": {},
   "source": [
    "#### 1.3.1. Dropout\n",
    "We will be using the same architecture as 1.1.1. So we'll bring it back. This will be the case for no dropout. But we will save the training and validation classification errors when we compare it with the case with the dropout."
   ]
  },
  {
   "cell_type": "code",
   "execution_count": 40,
   "metadata": {},
   "outputs": [
    {
     "name": "stdout",
     "output_type": "stream",
     "text": [
      "Training done for Epoch 0\n",
      "Training done for Epoch 1\n",
      "Training done for Epoch 2\n",
      "Training done for Epoch 3\n",
      "Training done for Epoch 4\n",
      "Training done for Epoch 5\n",
      "Training done for Epoch 6\n",
      "Training done for Epoch 7\n",
      "Training done for Epoch 8\n",
      "Training done for Epoch 9\n",
      "Testing Accuracy:  0.9049192\n",
      "Training complete.\n"
     ]
    }
   ],
   "source": [
    "X = tf.placeholder(tf.float32, [None, input_units])\n",
    "y = tf.placeholder(tf.float32, [None, output_labels])\n",
    "\n",
    "logits = mlp(X, hidden_units_1)\n",
    "\n",
    "loss = tf.reduce_mean(tf.nn.softmax_cross_entropy_with_logits(logits=logits, labels=y))\n",
    "optimizer = tf.train.AdamOptimizer(learning_rate=learning_rate_3).minimize(loss)\n",
    "\n",
    "corr_pred = tf.equal(tf.argmax(logits, 1), tf.argmax(y, 1))\n",
    "acc = tf.reduce_mean(tf.cast(corr_pred, tf.float32))\n",
    "errors = tf.subtract(tf.size(corr_pred),tf.reduce_sum(tf.cast(corr_pred, tf.int32)))\n",
    "\n",
    "with tf.Session() as sess:\n",
    "    init_op = tf.global_variables_initializer()\n",
    "    sess.run(init_op)\n",
    "    \n",
    "    training_errors = []\n",
    "    validation_errors = []\n",
    "    epochs_list = []\n",
    "    \n",
    "    for epoch in range(epochs):\n",
    "        epochs_list.append(epoch+1)\n",
    "        \n",
    "        training_wrong_label = 0\n",
    "        validating_wrong_label = 0\n",
    "        \n",
    "        batch_train = np.shape(trainData)[0]\n",
    "        total_batch = int(batch_train/batch_size)\n",
    "        train_batches_X = np.array_split(trainData, total_batch)\n",
    "        train_batches_Y = np.array_split(newTrainTarget, total_batch)\n",
    "\n",
    "        for i in range(total_batch):\n",
    "            train_batch_x, train_batch_y = train_batches_X[i], train_batches_Y[i]\n",
    "            train_batch_x = train_batch_x.reshape(150,784)\n",
    "            train_batch_y = train_batch_y.reshape(150,10)\n",
    "            \n",
    "            sess.run(optimizer,feed_dict={X: train_batch_x, y: train_batch_y})\n",
    "            \n",
    "            if i % step_size == 0 or i == 0:\n",
    "                loss_value, acc_value = sess.run([loss, acc],feed_dict = {X: train_batch_x, y: train_batch_y})\n",
    "            \n",
    "            training_wrong_label += errors.eval({X: train_batch_x, y: train_batch_y})\n",
    "            \n",
    "        valid_batch = int(np.shape(validData)[0]/batch_size)\n",
    "        valid_batches_X = np.array_split(validData[:900], valid_batch)\n",
    "        valid_batches_Y = np.array_split(newValidTarget[:900], valid_batch)\n",
    "        \n",
    "        for j in range(valid_batch):\n",
    "            valid_batch_x, valid_batch_y = valid_batches_X[j], valid_batches_Y[j]\n",
    "            valid_batch_x = valid_batch_x.reshape(150,784)\n",
    "            valid_batch_y = valid_batch_y.reshape(150,10)\n",
    "        \n",
    "            validating_wrong_label += errors.eval({X: valid_batch_x, y: valid_batch_y})\n",
    "            \n",
    "        print(\"Training done for Epoch \" + str(epoch))\n",
    "\n",
    "        training_errors.append(training_wrong_label)\n",
    "        validation_errors.append(validating_wrong_label)\n",
    "        \n",
    "    test_acc = acc.eval({X: newTestData, y: newTestTarget})\n",
    "    print(\"Testing Accuracy: \", test_acc)\n",
    "        \n",
    "    print(\"Training complete.\")"
   ]
  },
  {
   "cell_type": "code",
   "execution_count": 41,
   "metadata": {},
   "outputs": [
    {
     "name": "stdout",
     "output_type": "stream",
     "text": [
      "Training errors without dropout:  [1960, 1228, 988, 790, 626, 479, 368, 295, 237, 195]\n",
      "Validaition errors without dropout:  [89, 81, 77, 72, 69, 65, 71, 73, 63, 64]\n",
      "Testing Accuracy without dropout:  0.9049192\n"
     ]
    }
   ],
   "source": [
    "training_errors_without_dropout = training_errors\n",
    "validation_errors_without_dropout = validation_errors\n",
    "test_acc_without_dropout = test_acc\n",
    "print(\"Training errors without dropout: \", training_errors_without_dropout)\n",
    "print(\"Validaition errors without dropout: \", validation_errors_without_dropout)\n",
    "print(\"Testing Accuracy without dropout: \", test_acc_without_dropout)"
   ]
  },
  {
   "cell_type": "markdown",
   "metadata": {},
   "source": [
    "Now we will be creating another version of the <b>mlp( )</b> function but this time with the dropout. Then have a new model train with dropout."
   ]
  },
  {
   "cell_type": "code",
   "execution_count": 31,
   "metadata": {},
   "outputs": [],
   "source": [
    "def mlp_with_dropout(X, hidden_units, keep_prob):\n",
    "   initializer = tf.glorot_normal_initializer()\n",
    "\n",
    "   weight_matrix = {\n",
    "        'hidden_weight': tf.Variable(initializer([input_units, hidden_units])),\n",
    "        'out_weight': tf.Variable(initializer([hidden_units, output_labels]))\n",
    "    }\n",
    "    \n",
    "   bias_matrix = {\n",
    "        'hidden_bias': tf.Variable(tf.zeros([hidden_units])),\n",
    "        'out_bias': tf.Variable(tf.zeros([output_labels]))\n",
    "    }\n",
    "    \n",
    "   hidden_layer = tf.add(tf.matmul(X, weight_matrix['hidden_weight']), bias_matrix['hidden_bias'])\n",
    "   hidden_layer = tf.nn.relu(hidden_layer)\n",
    "   hidden_layer = tf.nn.dropout(hidden_layer, keep_prob)   # Introduce a dropout\n",
    "   output_layer = tf.add(tf.matmul(hidden_layer, weight_matrix['out_weight']), bias_matrix['out_bias'])\n",
    "    \n",
    "   return output_layer"
   ]
  },
  {
   "cell_type": "code",
   "execution_count": 43,
   "metadata": {},
   "outputs": [
    {
     "name": "stdout",
     "output_type": "stream",
     "text": [
      "Training done for Epoch 0\n",
      "Training done for Epoch 1\n",
      "Training done for Epoch 2\n",
      "Training done for Epoch 3\n",
      "Training done for Epoch 4\n",
      "Training done for Epoch 5\n",
      "Training done for Epoch 6\n",
      "Training done for Epoch 7\n",
      "Training done for Epoch 8\n",
      "Training done for Epoch 9\n",
      "Testing Accuracy:  0.9052864\n",
      "Training complete.\n"
     ]
    }
   ],
   "source": [
    "X = tf.placeholder(tf.float32, [None, input_units])\n",
    "y = tf.placeholder(tf.float32, [None, output_labels])\n",
    "\n",
    "keep_prob = tf.placeholder(\"float\")   # for the dropout\n",
    "\n",
    "logits = mlp_with_dropout(X, hidden_units_1, keep_prob)\n",
    "\n",
    "loss = tf.reduce_mean(tf.nn.softmax_cross_entropy_with_logits(logits=logits, labels=y))\n",
    "optimizer = tf.train.AdamOptimizer(learning_rate=learning_rate_3).minimize(loss)\n",
    "\n",
    "corr_pred = tf.equal(tf.argmax(logits, 1), tf.argmax(y, 1))\n",
    "acc = tf.reduce_mean(tf.cast(corr_pred, tf.float32))\n",
    "errors = tf.subtract(tf.size(corr_pred),tf.reduce_sum(tf.cast(corr_pred, tf.int32)))\n",
    "\n",
    "with tf.Session() as sess:\n",
    "    init_op = tf.global_variables_initializer()\n",
    "    sess.run(init_op)\n",
    "    \n",
    "    training_errors = []\n",
    "    validation_errors = []\n",
    "    epochs_list = []\n",
    "    \n",
    "    for epoch in range(epochs):\n",
    "        epochs_list.append(epoch+1)\n",
    "        \n",
    "        training_wrong_label = 0\n",
    "        validating_wrong_label = 0\n",
    "        \n",
    "        batch_train = np.shape(trainData)[0]\n",
    "        total_batch = int(batch_train/batch_size)\n",
    "        train_batches_X = np.array_split(trainData, total_batch)\n",
    "        train_batches_Y = np.array_split(newTrainTarget, total_batch)\n",
    "\n",
    "        for i in range(total_batch):\n",
    "            train_batch_x, train_batch_y = train_batches_X[i], train_batches_Y[i]\n",
    "            train_batch_x = train_batch_x.reshape(150,784)\n",
    "            train_batch_y = train_batch_y.reshape(150,10)\n",
    "            \n",
    "            sess.run(optimizer,feed_dict={X: train_batch_x, y: train_batch_y, keep_prob: 1.0})\n",
    "            \n",
    "            if i % step_size == 0 or i == 0:\n",
    "                loss_value, acc_value = sess.run([loss, acc],feed_dict = {X: train_batch_x, y: train_batch_y, keep_prob: 0.5})\n",
    "            \n",
    "            training_wrong_label += errors.eval({X: train_batch_x, y: train_batch_y, keep_prob: 0.5})\n",
    "            \n",
    "        valid_batch = int(np.shape(validData)[0]/batch_size)\n",
    "        valid_batches_X = np.array_split(validData[:900], valid_batch)\n",
    "        valid_batches_Y = np.array_split(newValidTarget[:900], valid_batch)\n",
    "        \n",
    "        for j in range(valid_batch):\n",
    "            valid_batch_x, valid_batch_y = valid_batches_X[j], valid_batches_Y[j]\n",
    "            valid_batch_x = valid_batch_x.reshape(150,784)\n",
    "            valid_batch_y = valid_batch_y.reshape(150,10)\n",
    "        \n",
    "            validating_wrong_label += errors.eval({X: valid_batch_x, y: valid_batch_y, keep_prob: 1.0})\n",
    "            \n",
    "        print(\"Training done for Epoch \" + str(epoch))\n",
    "\n",
    "        training_errors.append(training_wrong_label)\n",
    "        validation_errors.append(validating_wrong_label)\n",
    "        \n",
    "    test_acc = acc.eval({X: newTestData, y: newTestTarget, keep_prob: 1.0})\n",
    "    print(\"Testing Accuracy: \", test_acc)\n",
    "        \n",
    "    print(\"Training complete.\")"
   ]
  },
  {
   "cell_type": "code",
   "execution_count": 44,
   "metadata": {},
   "outputs": [
    {
     "name": "stdout",
     "output_type": "stream",
     "text": [
      "Training errors with dropout:  [2461, 1512, 1232, 1061, 965, 839, 776, 757, 758, 718]\n",
      "Validaition errors with dropout:  [91, 79, 75, 69, 64, 61, 65, 69, 70, 66]\n",
      "Testing Accuracy with dropout:  0.9052864\n"
     ]
    }
   ],
   "source": [
    "training_errors_with_dropout = training_errors\n",
    "validation_errors_with_dropout = validation_errors\n",
    "test_acc_with_dropout = test_acc\n",
    "print(\"Training errors with dropout: \", training_errors_with_dropout)\n",
    "print(\"Validaition errors with dropout: \", validation_errors_with_dropout)\n",
    "print(\"Testing Accuracy with dropout: \", test_acc_with_dropout)"
   ]
  },
  {
   "cell_type": "code",
   "execution_count": null,
   "metadata": {},
   "outputs": [],
   "source": []
  },
  {
   "cell_type": "markdown",
   "metadata": {},
   "source": [
    "As one can observe the performance of the model with the dropout turned out to be slightly higher than the performance without dropout.\n",
    "\n",
    "And here is the plot of training/validaiton classification errors vs epochs for the dropout case."
   ]
  },
  {
   "cell_type": "code",
   "execution_count": 45,
   "metadata": {},
   "outputs": [
    {
     "data": {
      "image/png": "[encoded data removed]",
      "text/plain": [
       "<Figure size 432x288 with 1 Axes>"
      ]
     },
     "metadata": {},
     "output_type": "display_data"
    }
   ],
   "source": [
    "plt.plot(epochs_list, training_errors_with_dropout, 'r')\n",
    "plt.plot(epochs_list, validation_errors_with_dropout, 'g')\n",
    "\n",
    "red_patch = mpatches.Patch(color='red', label='Training Classification Errors (with Dropout)')\n",
    "green_patch = mpatches.Patch(color='green', label='Valdiation Classification Errors (with Dropout)')\n",
    "\n",
    "plt.xlabel('Number of Epochs')\n",
    "plt.ylabel('Classification Errors')\n",
    "plt.legend(handles=[red_patch, green_patch])\n",
    "plt.show()"
   ]
  },
  {
   "cell_type": "markdown",
   "metadata": {},
   "source": [
    "#### 1.3.2. Visualization\n",
    "We will visualize what the hidden neurons have actually learnt for each checkpoint of the training: at 25%, 50%, 75% and 100%. In this case, after epoch 2, epoch 5, epoch 7 and after the training has completed. Let's revisit first the version without drouputs."
   ]
  },
  {
   "cell_type": "code",
   "execution_count": 110,
   "metadata": {},
   "outputs": [
    {
     "name": "stdout",
     "output_type": "stream",
     "text": [
      "Training done for Epoch 0\n",
      "Training done for Epoch 1\n",
      "Training done for Epoch 2\n",
      "Training done for Epoch 3\n",
      "Training done for Epoch 4\n",
      "Training done for Epoch 5\n",
      "Training done for Epoch 6\n",
      "Training done for Epoch 7\n",
      "Training done for Epoch 8\n",
      "Training done for Epoch 9\n",
      "Testing Accuracy:  0.9078561\n",
      "Training complete.\n"
     ]
    }
   ],
   "source": [
    "X = tf.placeholder(tf.float32, [None, input_units])\n",
    "y = tf.placeholder(tf.float32, [None, output_labels])\n",
    "\n",
    "logits = mlp(X, hidden_units_1)\n",
    "\n",
    "loss = tf.reduce_mean(tf.nn.softmax_cross_entropy_with_logits(logits=logits, labels=y))\n",
    "optimizer = tf.train.AdamOptimizer(learning_rate=learning_rate_3).minimize(loss)\n",
    "\n",
    "predicted_value = tf.argmax(logits,1)\n",
    "corr_pred = tf.equal(tf.argmax(logits, 1), tf.argmax(y, 1))\n",
    "acc = tf.reduce_mean(tf.cast(corr_pred, tf.float32))\n",
    "errors = tf.subtract(tf.size(corr_pred),tf.reduce_sum(tf.cast(corr_pred, tf.int32)))\n",
    "\n",
    "with tf.Session() as sess:\n",
    "    init_op = tf.global_variables_initializer()\n",
    "    sess.run(init_op)\n",
    "    \n",
    "    training_errors = []\n",
    "    validation_errors = []\n",
    "    epochs_list = []\n",
    "    \n",
    "    for epoch in range(epochs):\n",
    "        epochs_list.append(epoch+1)\n",
    "        \n",
    "        training_wrong_label = 0\n",
    "        validating_wrong_label = 0\n",
    "        \n",
    "        batch_train = np.shape(trainData)[0]\n",
    "        total_batch = int(batch_train/batch_size)\n",
    "        train_batches_X = np.array_split(trainData, total_batch)\n",
    "        train_batches_Y = np.array_split(newTrainTarget, total_batch)\n",
    "\n",
    "        for i in range(total_batch):\n",
    "            train_batch_x, train_batch_y = train_batches_X[i], train_batches_Y[i]\n",
    "            train_batch_x = train_batch_x.reshape(150,784)\n",
    "            train_batch_y = train_batch_y.reshape(150,10)\n",
    "            \n",
    "            sess.run(optimizer,feed_dict={X: train_batch_x, y: train_batch_y})\n",
    "            \n",
    "            if i % step_size == 0 or i == 0:\n",
    "                loss_value, acc_value = sess.run([loss, acc],feed_dict = {X: train_batch_x, y: train_batch_y})\n",
    "            \n",
    "            training_wrong_label += errors.eval({X: train_batch_x, y: train_batch_y})\n",
    "            \n",
    "        valid_batch = int(np.shape(validData)[0]/batch_size)\n",
    "        valid_batches_X = np.array_split(validData[:900], valid_batch)\n",
    "        valid_batches_Y = np.array_split(newValidTarget[:900], valid_batch)\n",
    "        \n",
    "        for j in range(valid_batch):\n",
    "            valid_batch_x, valid_batch_y = valid_batches_X[j], valid_batches_Y[j]\n",
    "            valid_batch_x = valid_batch_x.reshape(150,784)\n",
    "            valid_batch_y = valid_batch_y.reshape(150,10)\n",
    "        \n",
    "            validating_wrong_label += errors.eval({X: valid_batch_x, y: valid_batch_y})\n",
    "            \n",
    "        print(\"Training done for Epoch \" + str(epoch))\n",
    "\n",
    "        training_errors.append(training_wrong_label)\n",
    "        validation_errors.append(validating_wrong_label)\n",
    "        \n",
    "        if epoch == 2:\n",
    "            rn_25 = np.random.randint(low=0, high=2724-1, size=1)\n",
    "            ntd_25 = newTestData[rn_25].reshape(28,28)\n",
    "            predict_25 = predicted_value.eval({X: newTestData[rn_25]})\n",
    "            \n",
    "        if epoch == 5:\n",
    "            rn_50 = np.random.randint(low=0, high=2724-1, size=1)\n",
    "            ntd_50 = newTestData[rn_50].reshape(28,28)\n",
    "            predict_50 = predicted_value.eval({X: newTestData[rn_50]})\n",
    "            \n",
    "        if epoch == 7:\n",
    "            rn_75 = np.random.randint(low=0, high=2724-1, size=1)\n",
    "            ntd_75 = newTestData[rn_75].reshape(28,28)\n",
    "            predict_75 = predicted_value.eval({X: newTestData[rn_75]})\n",
    "        \n",
    "    test_acc = acc.eval({X: newTestData, y: newTestTarget})\n",
    "    print(\"Testing Accuracy: \", test_acc)\n",
    "    \n",
    "    rn_100 = np.random.randint(low=0, high=2724-1, size=1)\n",
    "    ntd_100 = newTestData[rn_100].reshape(28,28)\n",
    "    predict_100 = predicted_value.eval({X: newTestData[rn_100]})\n",
    "        \n",
    "    print(\"Training complete.\")"
   ]
  },
  {
   "cell_type": "markdown",
   "metadata": {},
   "source": [
    "Here are the test results for some random data and its prediction for the no dropout case for each checkpoint."
   ]
  },
  {
   "cell_type": "code",
   "execution_count": 111,
   "metadata": {},
   "outputs": [
    {
     "name": "stdout",
     "output_type": "stream",
     "text": [
      "Predicted letter with no dropout at 25% Checkpoint:  B\n"
     ]
    },
    {
     "data": {
      "image/png": "[encoded data removed]",
      "text/plain": [
       "<Figure size 432x288 with 1 Axes>"
      ]
     },
     "metadata": {},
     "output_type": "display_data"
    }
   ],
   "source": [
    "print(\"Predicted letter with no dropout at 25% Checkpoint: \", chr(predict_25+65))\n",
    "heatmap, axis = plt.subplots()\n",
    "im = axis.imshow(ntd_25)\n",
    "\n",
    "axis.set_title(\"Visualization for No Dropout at 25% Checkpoint\")\n",
    "heatmap.tight_layout()\n",
    "plt.show()"
   ]
  },
  {
   "cell_type": "code",
   "execution_count": 112,
   "metadata": {},
   "outputs": [
    {
     "name": "stdout",
     "output_type": "stream",
     "text": [
      "Predicted letter with no dropout at 50% Checkpoint:  I\n"
     ]
    },
    {
     "data": {
      "image/png": "[encoded data removed]",
      "text/plain": [
       "<Figure size 432x288 with 1 Axes>"
      ]
     },
     "metadata": {},
     "output_type": "display_data"
    }
   ],
   "source": [
    "print(\"Predicted letter with no dropout at 50% Checkpoint: \", chr(predict_50+65))\n",
    "heatmap, axis = plt.subplots()\n",
    "im = axis.imshow(ntd_50)\n",
    "\n",
    "axis.set_title(\"Visualization for No Dropout at 50% Checkpoint\")\n",
    "heatmap.tight_layout()\n",
    "plt.show()"
   ]
  },
  {
   "cell_type": "code",
   "execution_count": 113,
   "metadata": {},
   "outputs": [
    {
     "name": "stdout",
     "output_type": "stream",
     "text": [
      "Predicted letter with no dropout at 75% Checkpoint:  D\n"
     ]
    },
    {
     "data": {
      "image/png": "[encoded data removed]",
      "text/plain": [
       "<Figure size 432x288 with 1 Axes>"
      ]
     },
     "metadata": {},
     "output_type": "display_data"
    }
   ],
   "source": [
    "print(\"Predicted letter with no dropout at 75% Checkpoint: \", chr(predict_75+65))\n",
    "heatmap, axis = plt.subplots()\n",
    "im = axis.imshow(ntd_75)\n",
    "\n",
    "axis.set_title(\"Visualization for No Dropout at 75% Checkpoint\")\n",
    "heatmap.tight_layout()\n",
    "plt.show()"
   ]
  },
  {
   "cell_type": "code",
   "execution_count": 114,
   "metadata": {},
   "outputs": [
    {
     "name": "stdout",
     "output_type": "stream",
     "text": [
      "Predicted letter with no dropout at 100% Checkpoint:  G\n"
     ]
    },
    {
     "data": {
      "image/png": "[encoded data removed]",
      "text/plain": [
       "<Figure size 432x288 with 1 Axes>"
      ]
     },
     "metadata": {},
     "output_type": "display_data"
    }
   ],
   "source": [
    "print(\"Predicted letter with no dropout at 100% Checkpoint: \", chr(predict_100+65))\n",
    "heatmap, axis = plt.subplots()\n",
    "im = axis.imshow(ntd_100)\n",
    "\n",
    "axis.set_title(\"Visualization for No Dropout at 100% Checkpoint\")\n",
    "heatmap.tight_layout()\n",
    "plt.show()"
   ]
  },
  {
   "cell_type": "markdown",
   "metadata": {},
   "source": [
    "Now let's do the case for the dropout version."
   ]
  },
  {
   "cell_type": "code",
   "execution_count": 115,
   "metadata": {},
   "outputs": [
    {
     "name": "stdout",
     "output_type": "stream",
     "text": [
      "Training done for Epoch 0\n",
      "Training done for Epoch 1\n",
      "Training done for Epoch 2\n",
      "Training done for Epoch 3\n",
      "Training done for Epoch 4\n",
      "Training done for Epoch 5\n",
      "Training done for Epoch 6\n",
      "Training done for Epoch 7\n",
      "Training done for Epoch 8\n",
      "Training done for Epoch 9\n",
      "Testing Accuracy:  0.9056535\n",
      "Training complete.\n"
     ]
    }
   ],
   "source": [
    "X = tf.placeholder(tf.float32, [None, input_units])\n",
    "y = tf.placeholder(tf.float32, [None, output_labels])\n",
    "\n",
    "keep_prob = tf.placeholder(\"float\")   # for the dropout\n",
    "\n",
    "logits = mlp_with_dropout(X, hidden_units_1, keep_prob)\n",
    "\n",
    "loss = tf.reduce_mean(tf.nn.softmax_cross_entropy_with_logits(logits=logits, labels=y))\n",
    "optimizer = tf.train.AdamOptimizer(learning_rate=learning_rate_3).minimize(loss)\n",
    "\n",
    "predicted_value = tf.argmax(logits,1)\n",
    "corr_pred = tf.equal(tf.argmax(logits, 1), tf.argmax(y, 1))\n",
    "acc = tf.reduce_mean(tf.cast(corr_pred, tf.float32))\n",
    "errors = tf.subtract(tf.size(corr_pred),tf.reduce_sum(tf.cast(corr_pred, tf.int32)))\n",
    "\n",
    "with tf.Session() as sess:\n",
    "    init_op = tf.global_variables_initializer()\n",
    "    sess.run(init_op)\n",
    "    \n",
    "    training_errors = []\n",
    "    validation_errors = []\n",
    "    epochs_list = []\n",
    "    \n",
    "    for epoch in range(epochs):\n",
    "        epochs_list.append(epoch+1)\n",
    "        \n",
    "        training_wrong_label = 0\n",
    "        validating_wrong_label = 0\n",
    "        \n",
    "        batch_train = np.shape(trainData)[0]\n",
    "        total_batch = int(batch_train/batch_size)\n",
    "        train_batches_X = np.array_split(trainData, total_batch)\n",
    "        train_batches_Y = np.array_split(newTrainTarget, total_batch)\n",
    "\n",
    "        for i in range(total_batch):\n",
    "            train_batch_x, train_batch_y = train_batches_X[i], train_batches_Y[i]\n",
    "            train_batch_x = train_batch_x.reshape(150,784)\n",
    "            train_batch_y = train_batch_y.reshape(150,10)\n",
    "            \n",
    "            sess.run(optimizer,feed_dict={X: train_batch_x, y: train_batch_y, keep_prob: 1.0})\n",
    "            \n",
    "            if i % step_size == 0 or i == 0:\n",
    "                loss_value, acc_value = sess.run([loss, acc],feed_dict = {X: train_batch_x, y: train_batch_y, keep_prob: 0.5})\n",
    "            \n",
    "            training_wrong_label += errors.eval({X: train_batch_x, y: train_batch_y, keep_prob: 1.0})\n",
    "            \n",
    "        valid_batch = int(np.shape(validData)[0]/batch_size)\n",
    "        valid_batches_X = np.array_split(validData[:900], valid_batch)\n",
    "        valid_batches_Y = np.array_split(newValidTarget[:900], valid_batch)\n",
    "        \n",
    "        for j in range(valid_batch):\n",
    "            valid_batch_x, valid_batch_y = valid_batches_X[j], valid_batches_Y[j]\n",
    "            valid_batch_x = valid_batch_x.reshape(150,784)\n",
    "            valid_batch_y = valid_batch_y.reshape(150,10)\n",
    "        \n",
    "            validating_wrong_label += errors.eval({X: valid_batch_x, y: valid_batch_y, keep_prob: 1.0})\n",
    "            \n",
    "        print(\"Training done for Epoch \" + str(epoch))\n",
    "\n",
    "        training_errors.append(training_wrong_label)\n",
    "        validation_errors.append(validating_wrong_label)\n",
    "        \n",
    "        if epoch == 2:\n",
    "            rn_25 = np.random.randint(low=0, high=2724-1, size=1)\n",
    "            ntd_25 = newTestData[rn_25].reshape(28,28)\n",
    "            predict_25 = predicted_value.eval({X: newTestData[rn_25], keep_prob: 1.0})\n",
    "            \n",
    "        if epoch == 5:\n",
    "            rn_50 = np.random.randint(low=0, high=2724-1, size=1)\n",
    "            ntd_50 = newTestData[rn_50].reshape(28,28)\n",
    "            predict_50 = predicted_value.eval({X: newTestData[rn_50], keep_prob: 1.0})\n",
    "            \n",
    "        if epoch == 7:\n",
    "            rn_75 = np.random.randint(low=0, high=2724-1, size=1)\n",
    "            ntd_75 = newTestData[rn_75].reshape(28,28)\n",
    "            predict_75 = predicted_value.eval({X: newTestData[rn_75], keep_prob: 1.0})\n",
    "        \n",
    "    test_acc = acc.eval({X: newTestData, y: newTestTarget, keep_prob: 1.0})\n",
    "    print(\"Testing Accuracy: \", test_acc)\n",
    "    \n",
    "    rn_100 = np.random.randint(low=0, high=2724-1, size=1)\n",
    "    ntd_100 = newTestData[rn_100].reshape(28,28)\n",
    "    predict_100 = predicted_value.eval({X: newTestData[rn_100], keep_prob: 1.0})\n",
    "        \n",
    "    print(\"Training complete.\")"
   ]
  },
  {
   "cell_type": "markdown",
   "metadata": {},
   "source": [
    "At each checkpoint, we test some random data and its prediction."
   ]
  },
  {
   "cell_type": "code",
   "execution_count": 116,
   "metadata": {},
   "outputs": [
    {
     "name": "stdout",
     "output_type": "stream",
     "text": [
      "Predicted letter with dropout at 25% Checkpoint:  A\n"
     ]
    },
    {
     "data": {
      "image/png": "[encoded data removed]",
      "text/plain": [
       "<Figure size 432x288 with 1 Axes>"
      ]
     },
     "metadata": {},
     "output_type": "display_data"
    }
   ],
   "source": [
    "print(\"Predicted letter with dropout at 25% Checkpoint: \", chr(predict_25+65))\n",
    "heatmap, axis = plt.subplots()\n",
    "im = axis.imshow(ntd_25)\n",
    "\n",
    "axis.set_title(\"Visualization for Dropout at 25% Checkpoint\")\n",
    "heatmap.tight_layout()\n",
    "plt.show()"
   ]
  },
  {
   "cell_type": "code",
   "execution_count": 117,
   "metadata": {},
   "outputs": [
    {
     "name": "stdout",
     "output_type": "stream",
     "text": [
      "Predicted letter with dropout at 50% Checkpoint:  H\n"
     ]
    },
    {
     "data": {
      "image/png": "[encoded data removed]",
      "text/plain": [
       "<Figure size 432x288 with 1 Axes>"
      ]
     },
     "metadata": {},
     "output_type": "display_data"
    }
   ],
   "source": [
    "print(\"Predicted letter with dropout at 50% Checkpoint: \", chr(predict_50+65))\n",
    "heatmap, axis = plt.subplots()\n",
    "im = axis.imshow(ntd_50)\n",
    "\n",
    "axis.set_title(\"Visualization for Dropout at 50% Checkpoint\")\n",
    "heatmap.tight_layout()\n",
    "plt.show()"
   ]
  },
  {
   "cell_type": "code",
   "execution_count": 118,
   "metadata": {},
   "outputs": [
    {
     "name": "stdout",
     "output_type": "stream",
     "text": [
      "Predicted letter with dropout at 75% Checkpoint:  A\n"
     ]
    },
    {
     "data": {
      "image/png": "[encoded data removed]",
      "text/plain": [
       "<Figure size 432x288 with 1 Axes>"
      ]
     },
     "metadata": {},
     "output_type": "display_data"
    }
   ],
   "source": [
    "print(\"Predicted letter with dropout at 75% Checkpoint: \", chr(predict_75+65))\n",
    "heatmap, axis = plt.subplots()\n",
    "im = axis.imshow(ntd_75)\n",
    "\n",
    "axis.set_title(\"Visualization for Dropout at 75% Checkpoint\")\n",
    "heatmap.tight_layout()\n",
    "plt.show()"
   ]
  },
  {
   "cell_type": "code",
   "execution_count": 119,
   "metadata": {},
   "outputs": [
    {
     "name": "stdout",
     "output_type": "stream",
     "text": [
      "Predicted letter with dropout at 100% Checkpoint:  F\n"
     ]
    },
    {
     "data": {
      "image/png": "[encoded data removed]",
      "text/plain": [
       "<Figure size 432x288 with 1 Axes>"
      ]
     },
     "metadata": {},
     "output_type": "display_data"
    }
   ],
   "source": [
    "print(\"Predicted letter with dropout at 100% Checkpoint: \", chr(predict_100+65))\n",
    "heatmap, axis = plt.subplots()\n",
    "im = axis.imshow(ntd_100)\n",
    "\n",
    "axis.set_title(\"Visualization for Dropout at 100% Checkpoint\")\n",
    "heatmap.tight_layout()\n",
    "plt.show()"
   ]
  },
  {
   "cell_type": "markdown",
   "metadata": {},
   "source": [
    "<b>Some Observations</b>: Notice that for the case without dropout, we have found some misclassifications up until 50% of the training and after that we have seem to have good accuracy for not being able to find misclassifications. For the version with the dropout, which seemed to be better in performance, none of the four tests that we have tried out for the checkpoints are misclassified."
   ]
  }
 ],
 "metadata": {
  "kernelspec": {
   "display_name": "Python 3",
   "language": "python",
   "name": "python3"
  },
  "language_info": {
   "codemirror_mode": {
    "name": "ipython",
    "version": 3
   },
   "file_extension": ".py",
   "mimetype": "text/x-python",
   "name": "python",
   "nbconvert_exporter": "python",
   "pygments_lexer": "ipython3",
   "version": "3.7.4"
  }
 },
 "nbformat": 4,
 "nbformat_minor": 2
}
